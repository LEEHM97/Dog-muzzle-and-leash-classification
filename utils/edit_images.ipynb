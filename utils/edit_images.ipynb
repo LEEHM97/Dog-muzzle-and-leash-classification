{
 "cells": [
  {
   "cell_type": "markdown",
   "metadata": {},
   "source": [
    "# 파일 경로 변경"
   ]
  },
  {
   "cell_type": "code",
   "execution_count": 11,
   "metadata": {},
   "outputs": [],
   "source": [
    "import os\n",
    "\n",
    "current_path = './dataset/muzzle/'\n",
    "destination_path = './dataset/img/'\n",
    "file_list = os.listdir(current_path)"
   ]
  },
  {
   "cell_type": "code",
   "execution_count": null,
   "metadata": {},
   "outputs": [],
   "source": [
    "for i in range(len(file_list)):\n",
    "    if file_list[i].endswith('.jpg'):\n",
    "        os.replace(current_path+file_list[i], destination_path+file_list[i])\n",
    "        print(f'{file_list[i]} 이동 완료')"
   ]
  },
  {
   "cell_type": "markdown",
   "metadata": {},
   "source": [
    "# 파일 이름 변경"
   ]
  },
  {
   "cell_type": "code",
   "execution_count": 5,
   "metadata": {},
   "outputs": [
    {
     "name": "stdout",
     "output_type": "stream",
     "text": [
      "2nothing_0.jpg\n",
      "2nothing_1.jpg\n",
      "2nothing_2.jpg\n",
      "2nothing_3.jpg\n",
      "2nothing_4.jpg\n",
      "2nothing_5.jpg\n",
      "2nothing_6.jpg\n",
      "2nothing_7.jpg\n",
      "2nothing_8.jpg\n",
      "2nothing_9.jpg\n",
      "2nothing_10.jpg\n",
      "2nothing_11.jpg\n",
      "2nothing_12.jpg\n",
      "2nothing_13.jpg\n",
      "2nothing_14.jpg\n",
      "2nothing_15.jpg\n",
      "2nothing_16.jpg\n",
      "2nothing_17.jpg\n",
      "2nothing_18.jpg\n",
      "2nothing_19.jpg\n",
      "2nothing_20.jpg\n",
      "2nothing_21.jpg\n",
      "2nothing_22.jpg\n",
      "2nothing_23.jpg\n",
      "2nothing_24.jpg\n",
      "2nothing_25.jpg\n",
      "2nothing_26.jpg\n",
      "2nothing_27.jpg\n",
      "2nothing_28.jpg\n",
      "2nothing_29.jpg\n",
      "2nothing_30.jpg\n",
      "2nothing_31.jpg\n",
      "2nothing_32.jpg\n",
      "2nothing_33.jpg\n",
      "2nothing_34.jpg\n",
      "2nothing_35.jpg\n",
      "2nothing_36.jpg\n",
      "2nothing_37.jpg\n",
      "2nothing_38.jpg\n",
      "2nothing_39.jpg\n",
      "2nothing_40.jpg\n",
      "2nothing_41.jpg\n",
      "2nothing_42.jpg\n",
      "2nothing_43.jpg\n",
      "2nothing_44.jpg\n",
      "2nothing_45.jpg\n",
      "2nothing_46.jpg\n",
      "2nothing_47.jpg\n",
      "2nothing_48.jpg\n",
      "2nothing_49.jpg\n"
     ]
    },
    {
     "ename": "FileExistsError",
     "evalue": "[WinError 183] 파일이 이미 있으므로 만들 수 없습니다: './data/img/nothing/1nothing67.jpg' -> './data/img/nothing/2nothing_50.jpg'",
     "output_type": "error",
     "traceback": [
      "\u001b[1;31m---------------------------------------------------------------------------\u001b[0m",
      "\u001b[1;31mFileExistsError\u001b[0m                           Traceback (most recent call last)",
      "\u001b[1;32mc:\\Users\\gmlkd\\FastCampus\\mini_project\\개물림 사고 예방\\move_img.ipynb 셀 5\u001b[0m in \u001b[0;36m<cell line: 6>\u001b[1;34m()\u001b[0m\n\u001b[0;32m      <a href='vscode-notebook-cell:/c%3A/Users/gmlkd/FastCampus/mini_project/%EA%B0%9C%EB%AC%BC%EB%A6%BC%20%EC%82%AC%EA%B3%A0%20%EC%98%88%EB%B0%A9/move_img.ipynb#ch0000004?line=5'>6</a>\u001b[0m \u001b[39mfor\u001b[39;00m i \u001b[39min\u001b[39;00m \u001b[39mrange\u001b[39m(\u001b[39mlen\u001b[39m(file_list)):\n\u001b[0;32m      <a href='vscode-notebook-cell:/c%3A/Users/gmlkd/FastCampus/mini_project/%EA%B0%9C%EB%AC%BC%EB%A6%BC%20%EC%82%AC%EA%B3%A0%20%EC%98%88%EB%B0%A9/move_img.ipynb#ch0000004?line=6'>7</a>\u001b[0m     new_name \u001b[39m=\u001b[39m \u001b[39m\"\u001b[39m\u001b[39m2nothing_\u001b[39m\u001b[39m\"\u001b[39m \u001b[39m+\u001b[39m \u001b[39mstr\u001b[39m(i) \u001b[39m+\u001b[39m \u001b[39m\"\u001b[39m\u001b[39m.jpg\u001b[39m\u001b[39m\"\u001b[39m\n\u001b[1;32m----> <a href='vscode-notebook-cell:/c%3A/Users/gmlkd/FastCampus/mini_project/%EA%B0%9C%EB%AC%BC%EB%A6%BC%20%EC%82%AC%EA%B3%A0%20%EC%98%88%EB%B0%A9/move_img.ipynb#ch0000004?line=7'>8</a>\u001b[0m     os\u001b[39m.\u001b[39;49mrename(location\u001b[39m+\u001b[39;49mfile_list[i], location \u001b[39m+\u001b[39;49m new_name)\n\u001b[0;32m      <a href='vscode-notebook-cell:/c%3A/Users/gmlkd/FastCampus/mini_project/%EA%B0%9C%EB%AC%BC%EB%A6%BC%20%EC%82%AC%EA%B3%A0%20%EC%98%88%EB%B0%A9/move_img.ipynb#ch0000004?line=8'>9</a>\u001b[0m     \u001b[39mprint\u001b[39m(new_name)\n",
      "\u001b[1;31mFileExistsError\u001b[0m: [WinError 183] 파일이 이미 있으므로 만들 수 없습니다: './data/img/nothing/1nothing67.jpg' -> './data/img/nothing/2nothing_50.jpg'"
     ]
    }
   ],
   "source": [
    "import os \n",
    "\n",
    "location = './data/img/nothing/'\n",
    "file_list = os.listdir(location)\n",
    "\n",
    "for i in range(len(file_list)):\n",
    "    new_name = \"2nothing_\" + str(i) + \".jpg\"\n",
    "    os.rename(location+file_list[i], location + new_name)\n",
    "    print(new_name)\n"
   ]
  },
  {
   "cell_type": "code",
   "execution_count": null,
   "metadata": {},
   "outputs": [],
   "source": []
  }
 ],
 "metadata": {
  "kernelspec": {
   "display_name": "Python 3.9.13 ('tensor2.9')",
   "language": "python",
   "name": "python3"
  },
  "language_info": {
   "codemirror_mode": {
    "name": "ipython",
    "version": 3
   },
   "file_extension": ".py",
   "mimetype": "text/x-python",
   "name": "python",
   "nbconvert_exporter": "python",
   "pygments_lexer": "ipython3",
   "version": "3.9.13"
  },
  "orig_nbformat": 4,
  "vscode": {
   "interpreter": {
    "hash": "71fd5fe6be37b4db0cd97162c0729102804300edc330f59999a435bca5ce69d1"
   }
  }
 },
 "nbformat": 4,
 "nbformat_minor": 2
}
