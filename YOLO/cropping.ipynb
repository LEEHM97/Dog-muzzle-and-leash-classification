{
 "cells": [
  {
   "cell_type": "code",
   "execution_count": 1,
   "metadata": {},
   "outputs": [],
   "source": [
    "import tensorflow as tf\n",
    "import sys\n",
    "import cv2\n",
    "import numpy as np\n",
    "from glob import glob\n",
    "from models import Yolov4\n",
    "import pandas as pd\n",
    "import os\n",
    "import math\n",
    "import scipy as sp\n",
    "import PIL\n",
    "\n",
    "# Tensorflow\n",
    "from tensorflow.keras import models, layers, Model\n",
    "from tensorflow.keras.models import Sequential, load_model\n",
    "from tensorflow.keras.layers import Conv2D, MaxPooling2D\n",
    "from tensorflow.keras.layers import Dense, Dropout, Flatten, GlobalAveragePooling2D\n",
    "from tensorflow.keras.layers import Flatten, Dense, Dropout, ZeroPadding2D\n",
    "\n",
    "from tensorflow.keras.preprocessing.image import ImageDataGenerator\n",
    "from tensorflow.keras.callbacks import ModelCheckpoint, TensorBoard, ReduceLROnPlateau\n",
    "from tensorflow.keras import optimizers\n",
    "from tensorflow.keras.optimizers import SGD\n",
    "from tensorflow.keras.models import Model\n",
    "from tensorflow.keras.preprocessing import image\n",
    "from tensorflow.keras.applications import EfficientNetB4, EfficientNetB6, ResNet50V2\n",
    "#from keras_tuner.tuners import RandomSearch\n",
    "\n",
    "import scikitplot as skplt\n",
    "from sklearn.metrics import roc_auc_score\n",
    "import matplotlib.pyplot as plt"
   ]
  },
  {
   "cell_type": "code",
   "execution_count": 2,
   "metadata": {},
   "outputs": [],
   "source": [
    "%load_ext autoreload\n",
    "%autoreload 2"
   ]
  },
  {
   "cell_type": "code",
   "execution_count": 3,
   "metadata": {},
   "outputs": [
    {
     "name": "stdout",
     "output_type": "stream",
     "text": [
      "nms iou: 0.413 score: 0.3\n",
      "all weights read\n",
      "load from ./yolov4.weights\n"
     ]
    },
    {
     "name": "stderr",
     "output_type": "stream",
     "text": [
      "c:\\Users\\gmlkd\\miniforge3\\envs\\tensor2.9\\lib\\site-packages\\keras\\optimizers\\optimizer_v2\\adam.py:110: UserWarning: The `lr` argument is deprecated, use `learning_rate` instead.\n",
      "  super(Adam, self).__init__(name, **kwargs)\n"
     ]
    }
   ],
   "source": [
    "model = Yolov4(weight_path='./yolov4.weights',\n",
    "               class_name_path='./class_names/coco_classes.txt')"
   ]
  },
  {
   "cell_type": "code",
   "execution_count": 4,
   "metadata": {},
   "outputs": [],
   "source": [
    "import os \n",
    "import pandas as pd\n",
    "\n",
    "location = './data/img/'\n",
    "\n",
    "img_list = os.listdir(location)"
   ]
  },
  {
   "cell_type": "code",
   "execution_count": 5,
   "metadata": {},
   "outputs": [
    {
     "data": {
      "text/plain": [
       "40"
      ]
     },
     "execution_count": 5,
     "metadata": {},
     "output_type": "execute_result"
    }
   ],
   "source": [
    "len(img_list)"
   ]
  },
  {
   "cell_type": "code",
   "execution_count": 6,
   "metadata": {},
   "outputs": [
    {
     "data": {
      "text/plain": [
       "'1.jpg'"
      ]
     },
     "execution_count": 6,
     "metadata": {},
     "output_type": "execute_result"
    }
   ],
   "source": [
    "img_list[0]"
   ]
  },
  {
   "cell_type": "code",
   "execution_count": 7,
   "metadata": {},
   "outputs": [
    {
     "name": "stdout",
     "output_type": "stream",
     "text": [
      "img shape:  (356, 560, 3)\n",
      "1/1 [==============================] - 6s 6s/step\n",
      "# of bboxes: 1\n",
      "1.jpg\n",
      "img shape:  (600, 600, 3)\n",
      "1/1 [==============================] - 0s 43ms/step\n",
      "# of bboxes: 1\n",
      "10.jpg\n",
      "img shape:  (337, 640, 3)\n",
      "1/1 [==============================] - 0s 42ms/step\n",
      "# of bboxes: 2\n",
      "11.jpg\n",
      "img shape:  (450, 800, 3)\n",
      "1/1 [==============================] - 0s 45ms/step\n",
      "# of bboxes: 1\n",
      "12.jpg\n",
      "img shape:  (472, 620, 3)\n",
      "1/1 [==============================] - 0s 42ms/step\n",
      "# of bboxes: 2\n",
      "14.jpg\n",
      "img shape:  (540, 960, 3)\n",
      "1/1 [==============================] - 0s 41ms/step\n",
      "# of bboxes: 3\n",
      "15.jpg\n",
      "img shape:  (1024, 768, 3)\n",
      "1/1 [==============================] - 0s 40ms/step\n",
      "# of bboxes: 5\n",
      "16.jpg\n",
      "img shape:  (600, 600, 3)\n",
      "1/1 [==============================] - 0s 43ms/step\n",
      "# of bboxes: 1\n",
      "18.jpg\n",
      "img shape:  (600, 600, 3)\n",
      "1/1 [==============================] - 0s 42ms/step\n",
      "# of bboxes: 1\n",
      "19.jpg\n",
      "img shape:  (300, 600, 3)\n",
      "1/1 [==============================] - 0s 41ms/step\n",
      "# of bboxes: 1\n",
      "2.jpg\n",
      "img shape:  (600, 600, 3)\n",
      "1/1 [==============================] - 0s 43ms/step\n",
      "# of bboxes: 2\n",
      "21.jpg\n",
      "img shape:  (720, 720, 3)\n",
      "1/1 [==============================] - 0s 40ms/step\n",
      "# of bboxes: 3\n",
      "22.jpg\n",
      "img shape:  (400, 400, 3)\n",
      "1/1 [==============================] - 0s 43ms/step\n",
      "# of bboxes: 1\n",
      "25.jpg\n",
      "img shape:  (1407, 1055, 3)\n",
      "1/1 [==============================] - 0s 43ms/step\n",
      "# of bboxes: 1\n",
      "28.jpg\n",
      "img shape:  (314, 628, 3)\n",
      "1/1 [==============================] - 0s 41ms/step\n",
      "# of bboxes: 0\n",
      "3.jpg\n",
      "img shape:  (600, 600, 3)\n",
      "1/1 [==============================] - 0s 41ms/step\n",
      "# of bboxes: 2\n",
      "32.jpg\n",
      "img shape:  (500, 500, 3)\n",
      "1/1 [==============================] - 0s 41ms/step\n",
      "# of bboxes: 3\n",
      "37.jpg\n",
      "img shape:  (1000, 1000, 3)\n",
      "1/1 [==============================] - 0s 41ms/step\n",
      "# of bboxes: 2\n",
      "38.jpg\n",
      "img shape:  (398, 600, 3)\n",
      "1/1 [==============================] - 0s 41ms/step\n",
      "# of bboxes: 2\n",
      "39.jpg\n",
      "img shape:  (815, 640, 3)\n",
      "1/1 [==============================] - 0s 42ms/step\n",
      "# of bboxes: 2\n",
      "40.jpg\n",
      "img shape:  (492, 492, 3)\n",
      "1/1 [==============================] - 0s 54ms/step\n",
      "# of bboxes: 1\n",
      "43.jpg\n",
      "img shape:  (994, 640, 3)\n",
      "1/1 [==============================] - 0s 44ms/step\n",
      "# of bboxes: 1\n",
      "44.jpg\n",
      "img shape:  (750, 500, 3)\n",
      "1/1 [==============================] - 0s 44ms/step\n",
      "# of bboxes: 2\n",
      "45.jpg\n",
      "img shape:  (500, 500, 3)\n",
      "1/1 [==============================] - 0s 42ms/step\n",
      "# of bboxes: 1\n",
      "49.jpg\n",
      "img shape:  (1024, 1024, 3)\n",
      "1/1 [==============================] - 0s 45ms/step\n",
      "# of bboxes: 1\n",
      "5.jpg\n",
      "img shape:  (600, 600, 3)\n",
      "1/1 [==============================] - 0s 46ms/step\n",
      "# of bboxes: 1\n",
      "50.jpg\n",
      "img shape:  (700, 700, 3)\n",
      "1/1 [==============================] - 0s 47ms/step\n",
      "# of bboxes: 1\n",
      "53.jpg\n",
      "img shape:  (1055, 1055, 3)\n",
      "1/1 [==============================] - 0s 44ms/step\n",
      "# of bboxes: 1\n",
      "58.jpg\n",
      "img shape:  (720, 720, 3)\n",
      "1/1 [==============================] - 0s 45ms/step\n",
      "# of bboxes: 1\n",
      "61.jpg\n",
      "img shape:  (600, 600, 3)\n",
      "1/1 [==============================] - 0s 47ms/step\n",
      "# of bboxes: 1\n",
      "65.jpg\n",
      "img shape:  (625, 624, 3)\n",
      "1/1 [==============================] - 0s 46ms/step\n",
      "# of bboxes: 1\n",
      "68.jpg\n",
      "img shape:  (671, 1000, 3)\n",
      "1/1 [==============================] - 0s 45ms/step\n",
      "# of bboxes: 2\n",
      "7.jpg\n",
      "img shape:  (360, 360, 3)\n",
      "1/1 [==============================] - 0s 46ms/step\n",
      "# of bboxes: 1\n",
      "74.jpg\n",
      "img shape:  (646, 970, 3)\n",
      "1/1 [==============================] - 0s 48ms/step\n",
      "# of bboxes: 2\n",
      "75.jpg\n",
      "img shape:  (492, 492, 3)\n",
      "1/1 [==============================] - 0s 49ms/step\n",
      "# of bboxes: 1\n",
      "78.jpg\n",
      "img shape:  (300, 300, 3)\n",
      "1/1 [==============================] - 0s 48ms/step\n",
      "# of bboxes: 2\n",
      "79.jpg\n",
      "img shape:  (1000, 1000, 3)\n",
      "1/1 [==============================] - 0s 48ms/step\n",
      "# of bboxes: 1\n",
      "8.jpg\n",
      "img shape:  (314, 628, 3)\n",
      "1/1 [==============================] - 0s 48ms/step\n",
      "# of bboxes: 1\n",
      "84.jpg\n",
      "img shape:  (650, 650, 3)\n",
      "1/1 [==============================] - 0s 52ms/step\n",
      "# of bboxes: 2\n",
      "85.jpg\n",
      "img shape:  (640, 640, 3)\n",
      "1/1 [==============================] - 0s 49ms/step\n",
      "# of bboxes: 1\n",
      "90.jpg\n"
     ]
    }
   ],
   "source": [
    "for i in range(len(img_list)):\n",
    "    df = model.predict(location + img_list[i], random_color=True)\n",
    "    df = df[df.score>0.75]\n",
    "    print(img_list[i])\n",
    "    image = cv2.imread(location + img_list[i])\n",
    "    \n",
    "    if len(df)>1:\n",
    "        for j in range(len(df)):\n",
    "            new_image = image[int(df.iloc[j].y1):int(df.iloc[j].y2) , int(df.iloc[j].x1):int(df.iloc[j].x2), :]\n",
    "            cv2.imwrite(location + str(j) + img_list[i], new_image)\n",
    "        os.remove(location + img_list[i])\n",
    "        \n",
    "    elif len(df)==0:\n",
    "        os.remove(location + img_list[i])\n",
    "        continue\n",
    "    else:\n",
    "        new_image = image[int(df.y1) : int(df.y2) , int(df.x1) : int(df.x2), :]\n",
    "        cv2.imwrite(location + img_list[i], new_image)\n"
   ]
  },
  {
   "cell_type": "code",
   "execution_count": null,
   "metadata": {},
   "outputs": [],
   "source": []
  }
 ],
 "metadata": {
  "kernelspec": {
   "display_name": "Python 3.8.13 ('fastcampus')",
   "language": "python",
   "name": "python3"
  },
  "language_info": {
   "codemirror_mode": {
    "name": "ipython",
    "version": 3
   },
   "file_extension": ".py",
   "mimetype": "text/x-python",
   "name": "python",
   "nbconvert_exporter": "python",
   "pygments_lexer": "ipython3",
   "version": "3.8.13"
  },
  "orig_nbformat": 4,
  "vscode": {
   "interpreter": {
    "hash": "d03f6901b6a42dbe3cd1c26aed86af13911a401140e63ddc3b23a4d593814a4d"
   }
  }
 },
 "nbformat": 4,
 "nbformat_minor": 2
}
